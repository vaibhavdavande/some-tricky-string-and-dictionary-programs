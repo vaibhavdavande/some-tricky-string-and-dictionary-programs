{
 "cells": [
  {
   "cell_type": "code",
   "execution_count": 6,
   "metadata": {},
   "outputs": [
    {
     "data": {
      "text/plain": [
       "'GovinD'"
      ]
     },
     "execution_count": 6,
     "metadata": {},
     "output_type": "execute_result"
    }
   ],
   "source": [
    "#Capitalize first and last letter of a word\n",
    "s = 'govind'\n",
    "s.capitalize()[0]+s[1:-1]+s.upper()[-1]"
   ]
  },
  {
   "cell_type": "code",
   "execution_count": 9,
   "metadata": {},
   "outputs": [
    {
     "name": "stdout",
     "output_type": "stream",
     "text": [
      "GovinD\n"
     ]
    }
   ],
   "source": [
    "#Capitalize first and last letter of a word\n",
    "s = 'govind'\n",
    "a = ''\n",
    "for i in range(len(s)):\n",
    "    if i==0 or (i==len(s)-1):\n",
    "        a+= s.upper()[i]\n",
    "    else:\n",
    "        a+= s[i]\n",
    "print(a)"
   ]
  },
  {
   "cell_type": "code",
   "execution_count": 4,
   "metadata": {},
   "outputs": [
    {
     "name": "stdout",
     "output_type": "stream",
     "text": [
      "{'g': 2, 'o': 2, 'l': 1, 'e': 1}\n"
     ]
    }
   ],
   "source": [
    "#WAP to count the occurances of the letters in the word or string\n",
    "#Approach 1\n",
    "s =  'google'\n",
    "d = {}\n",
    "for i in s:\n",
    "    d[i] = s.count(i)\n",
    "print(d)"
   ]
  },
  {
   "cell_type": "code",
   "execution_count": 8,
   "metadata": {},
   "outputs": [
    {
     "name": "stdout",
     "output_type": "stream",
     "text": [
      "{'g': 2} {'o': 2} {'o': 2} {'g': 2} {'l': 1} {'e': 1} "
     ]
    }
   ],
   "source": [
    "#WAP to count the occurances of the letters in the word or string\n",
    "#Approach 2\n",
    "s =  'google'\n",
    "d = {}\n",
    "for i in s:\n",
    "    print({i:s.count(i)}, end =' ')"
   ]
  },
  {
   "cell_type": "code",
   "execution_count": 15,
   "metadata": {},
   "outputs": [
    {
     "name": "stdout",
     "output_type": "stream",
     "text": [
      "w3w3\n"
     ]
    }
   ],
   "source": [
    " #Write a Python program to get a string made of the first 2 and the last 2 chars from a given a string. \n",
    "    #If the string length is less than 2, return instead of the empty string.\n",
    "t =  'w3'\n",
    "if len(t)>1:\n",
    "    print(t[0:2]+t[-2:])\n",
    "else:\n",
    "    print('The string is empty')"
   ]
  },
  {
   "cell_type": "code",
   "execution_count": 4,
   "metadata": {},
   "outputs": [
    {
     "data": {
      "text/plain": [
       "'resta$t'"
      ]
     },
     "execution_count": 4,
     "metadata": {},
     "output_type": "execute_result"
    }
   ],
   "source": [
    "#Replacing the 2nd occurance of r by $\n",
    "a = 'restart'\n",
    "char =a[0]\n",
    "str1 = a.replace(char,'$')\n",
    "str1 = char+str1[1:]\n",
    "str1"
   ]
  },
  {
   "cell_type": "code",
   "execution_count": 28,
   "metadata": {},
   "outputs": [
    {
     "data": {
      "text/plain": [
       "'xyc abz'"
      ]
     },
     "execution_count": 28,
     "metadata": {},
     "output_type": "execute_result"
    }
   ],
   "source": [
    "'''input is: \n",
    "p = 'abc'\n",
    "q = 'xyz\n",
    "Output must be:'xyc abz'''\n",
    "\n",
    "p = 'abc'\n",
    "q = 'xyz'\n",
    "new1 = q[:2]+p[2]\n",
    "new2 = p[:2]+q[2]\n",
    "\n",
    "' '.join([new1,new2])"
   ]
  },
  {
   "cell_type": "code",
   "execution_count": 3,
   "metadata": {},
   "outputs": [
    {
     "name": "stdout",
     "output_type": "stream",
     "text": [
      "testing\n"
     ]
    }
   ],
   "source": [
    "# check the string length if it greater than 2 and if it ends with ing then replace it with ly else append the string \n",
    "#with ing and if length is less than 2 then print it as it is.\n",
    "w = 'test'\n",
    "if len(w)>2:\n",
    "    if w[-3:]=='ing':\n",
    "        n2 = w[:-3]+'ly'\n",
    "        print(n2)\n",
    "    else:\n",
    "        n1 = w+'ing'\n",
    "        print(n1)\n",
    "else:\n",
    "    print(w)"
   ]
  }
 ],
 "metadata": {
  "kernelspec": {
   "display_name": "Python 3",
   "language": "python",
   "name": "python3"
  },
  "language_info": {
   "codemirror_mode": {
    "name": "ipython",
    "version": 3
   },
   "file_extension": ".py",
   "mimetype": "text/x-python",
   "name": "python",
   "nbconvert_exporter": "python",
   "pygments_lexer": "ipython3",
   "version": "3.7.4"
  }
 },
 "nbformat": 4,
 "nbformat_minor": 2
}
